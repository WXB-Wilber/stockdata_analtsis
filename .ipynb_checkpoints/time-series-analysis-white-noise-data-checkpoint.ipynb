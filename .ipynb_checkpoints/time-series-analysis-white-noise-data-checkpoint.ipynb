{
 "cells": [
  {
   "cell_type": "markdown",
   "id": "bbf02a6c",
   "metadata": {
    "id": "Lj-dKmINNAI2",
    "papermill": {
     "duration": 0.034429,
     "end_time": "2021-10-04T07:31:21.419848",
     "exception": false,
     "start_time": "2021-10-04T07:31:21.385419",
     "status": "completed"
    },
    "tags": []
   },
   "source": [
    "## Importing Libraries\n"
   ]
  },
  {
   "cell_type": "code",
   "execution_count": 1,
   "id": "8762c404",
   "metadata": {
    "execution": {
     "iopub.execute_input": "2021-10-04T07:31:21.492033Z",
     "iopub.status.busy": "2021-10-04T07:31:21.490898Z",
     "iopub.status.idle": "2021-10-04T07:31:23.124236Z",
     "shell.execute_reply": "2021-10-04T07:31:23.123522Z",
     "shell.execute_reply.started": "2021-10-04T07:20:03.99099Z"
    },
    "id": "GeQJ4_xXrNbG",
    "outputId": "ceadf10f-094c-4e97-a060-86dca891d8af",
    "papermill": {
     "duration": 1.669542,
     "end_time": "2021-10-04T07:31:23.124419",
     "exception": false,
     "start_time": "2021-10-04T07:31:21.454877",
     "status": "completed"
    },
    "tags": []
   },
   "outputs": [],
   "source": [
    "import pandas as pd\n",
    "import numpy as np\n",
    "import matplotlib.pyplot as plt\n",
    "import seaborn as sns\n",
    "import statsmodels.api as sm"
   ]
  },
  {
   "cell_type": "code",
   "execution_count": 2,
   "id": "6ce95d06",
   "metadata": {
    "execution": {
     "iopub.execute_input": "2021-10-04T07:31:23.196271Z",
     "iopub.status.busy": "2021-10-04T07:31:23.195650Z",
     "iopub.status.idle": "2021-10-04T07:31:23.234658Z",
     "shell.execute_reply": "2021-10-04T07:31:23.234154Z",
     "shell.execute_reply.started": "2021-10-04T07:20:28.902892Z"
    },
    "id": "-W63-PidrWjZ",
    "outputId": "f0419e8e-7fac-4456-bdb0-f1559719e9c8",
    "papermill": {
     "duration": 0.076047,
     "end_time": "2021-10-04T07:31:23.234799",
     "exception": false,
     "start_time": "2021-10-04T07:31:23.158752",
     "status": "completed"
    },
    "tags": []
   },
   "outputs": [
    {
     "data": {
      "text/html": [
       "<div>\n",
       "<style scoped>\n",
       "    .dataframe tbody tr th:only-of-type {\n",
       "        vertical-align: middle;\n",
       "    }\n",
       "\n",
       "    .dataframe tbody tr th {\n",
       "        vertical-align: top;\n",
       "    }\n",
       "\n",
       "    .dataframe thead th {\n",
       "        text-align: right;\n",
       "    }\n",
       "</style>\n",
       "<table border=\"1\" class=\"dataframe\">\n",
       "  <thead>\n",
       "    <tr style=\"text-align: right;\">\n",
       "      <th></th>\n",
       "      <th>date</th>\n",
       "      <th>TL BASED ISE</th>\n",
       "      <th>USD BASED ISE</th>\n",
       "      <th>SP</th>\n",
       "      <th>DAX</th>\n",
       "      <th>FTSE</th>\n",
       "      <th>NIKKEI</th>\n",
       "      <th>BOVESPA</th>\n",
       "      <th>EU</th>\n",
       "      <th>EM</th>\n",
       "    </tr>\n",
       "  </thead>\n",
       "  <tbody>\n",
       "    <tr>\n",
       "      <th>0</th>\n",
       "      <td>5-Jan-09</td>\n",
       "      <td>0.035754</td>\n",
       "      <td>0.038376</td>\n",
       "      <td>-0.004679</td>\n",
       "      <td>0.002193</td>\n",
       "      <td>0.003894</td>\n",
       "      <td>0.000000</td>\n",
       "      <td>0.031190</td>\n",
       "      <td>0.012698</td>\n",
       "      <td>0.028524</td>\n",
       "    </tr>\n",
       "    <tr>\n",
       "      <th>1</th>\n",
       "      <td>6-Jan-09</td>\n",
       "      <td>0.025426</td>\n",
       "      <td>0.031813</td>\n",
       "      <td>0.007787</td>\n",
       "      <td>0.008455</td>\n",
       "      <td>0.012866</td>\n",
       "      <td>0.004162</td>\n",
       "      <td>0.018920</td>\n",
       "      <td>0.011341</td>\n",
       "      <td>0.008773</td>\n",
       "    </tr>\n",
       "    <tr>\n",
       "      <th>2</th>\n",
       "      <td>7-Jan-09</td>\n",
       "      <td>-0.028862</td>\n",
       "      <td>-0.026353</td>\n",
       "      <td>-0.030469</td>\n",
       "      <td>-0.017833</td>\n",
       "      <td>-0.028735</td>\n",
       "      <td>0.017293</td>\n",
       "      <td>-0.035899</td>\n",
       "      <td>-0.017073</td>\n",
       "      <td>-0.020015</td>\n",
       "    </tr>\n",
       "    <tr>\n",
       "      <th>3</th>\n",
       "      <td>8-Jan-09</td>\n",
       "      <td>-0.062208</td>\n",
       "      <td>-0.084716</td>\n",
       "      <td>0.003391</td>\n",
       "      <td>-0.011726</td>\n",
       "      <td>-0.000466</td>\n",
       "      <td>-0.040061</td>\n",
       "      <td>0.028283</td>\n",
       "      <td>-0.005561</td>\n",
       "      <td>-0.019424</td>\n",
       "    </tr>\n",
       "    <tr>\n",
       "      <th>4</th>\n",
       "      <td>9-Jan-09</td>\n",
       "      <td>0.009860</td>\n",
       "      <td>0.009658</td>\n",
       "      <td>-0.021533</td>\n",
       "      <td>-0.019873</td>\n",
       "      <td>-0.012710</td>\n",
       "      <td>-0.004474</td>\n",
       "      <td>-0.009764</td>\n",
       "      <td>-0.010989</td>\n",
       "      <td>-0.007802</td>\n",
       "    </tr>\n",
       "  </tbody>\n",
       "</table>\n",
       "</div>"
      ],
      "text/plain": [
       "       date  TL BASED ISE  USD BASED ISE        SP       DAX      FTSE  \\\n",
       "0  5-Jan-09      0.035754       0.038376 -0.004679  0.002193  0.003894   \n",
       "1  6-Jan-09      0.025426       0.031813  0.007787  0.008455  0.012866   \n",
       "2  7-Jan-09     -0.028862      -0.026353 -0.030469 -0.017833 -0.028735   \n",
       "3  8-Jan-09     -0.062208      -0.084716  0.003391 -0.011726 -0.000466   \n",
       "4  9-Jan-09      0.009860       0.009658 -0.021533 -0.019873 -0.012710   \n",
       "\n",
       "     NIKKEI   BOVESPA        EU        EM  \n",
       "0  0.000000  0.031190  0.012698  0.028524  \n",
       "1  0.004162  0.018920  0.011341  0.008773  \n",
       "2  0.017293 -0.035899 -0.017073 -0.020015  \n",
       "3 -0.040061  0.028283 -0.005561 -0.019424  \n",
       "4 -0.004474 -0.009764 -0.010989 -0.007802  "
      ]
     },
     "execution_count": 2,
     "metadata": {},
     "output_type": "execute_result"
    }
   ],
   "source": [
    "df = pd.read_csv(\"../input/istanbul-stock-exchange/istanbul_stock_exchange.csv\")\n",
    "df.head()"
   ]
  },
  {
   "cell_type": "code",
   "execution_count": 3,
   "id": "7c00a970",
   "metadata": {
    "execution": {
     "iopub.execute_input": "2021-10-04T07:31:23.345567Z",
     "iopub.status.busy": "2021-10-04T07:31:23.329802Z",
     "iopub.status.idle": "2021-10-04T07:31:23.360767Z",
     "shell.execute_reply": "2021-10-04T07:31:23.360203Z",
     "shell.execute_reply.started": "2021-10-04T07:20:35.065211Z"
    },
    "id": "ou4vEsBsSwku",
    "papermill": {
     "duration": 0.092109,
     "end_time": "2021-10-04T07:31:23.360933",
     "exception": false,
     "start_time": "2021-10-04T07:31:23.268824",
     "status": "completed"
    },
    "tags": []
   },
   "outputs": [],
   "source": [
    "df['date'] = pd.to_datetime(df['date'])"
   ]
  },
  {
   "cell_type": "code",
   "execution_count": 4,
   "id": "0aabd111",
   "metadata": {
    "execution": {
     "iopub.execute_input": "2021-10-04T07:31:23.434351Z",
     "iopub.status.busy": "2021-10-04T07:31:23.433615Z",
     "iopub.status.idle": "2021-10-04T07:31:23.436178Z",
     "shell.execute_reply": "2021-10-04T07:31:23.435569Z",
     "shell.execute_reply.started": "2021-10-04T07:22:35.846638Z"
    },
    "papermill": {
     "duration": 0.041718,
     "end_time": "2021-10-04T07:31:23.436333",
     "exception": false,
     "start_time": "2021-10-04T07:31:23.394615",
     "status": "completed"
    },
    "tags": []
   },
   "outputs": [],
   "source": [
    "df.rename(columns={'TL BASED ISE':'ISE','USD BASED ISE':'ISE.1'},inplace=True)"
   ]
  },
  {
   "cell_type": "code",
   "execution_count": 5,
   "id": "0b47483d",
   "metadata": {
    "execution": {
     "iopub.execute_input": "2021-10-04T07:31:23.519940Z",
     "iopub.status.busy": "2021-10-04T07:31:23.507353Z",
     "iopub.status.idle": "2021-10-04T07:31:23.523343Z",
     "shell.execute_reply": "2021-10-04T07:31:23.523842Z",
     "shell.execute_reply.started": "2021-10-04T07:22:36.698508Z"
    },
    "papermill": {
     "duration": 0.05416,
     "end_time": "2021-10-04T07:31:23.524021",
     "exception": false,
     "start_time": "2021-10-04T07:31:23.469861",
     "status": "completed"
    },
    "tags": []
   },
   "outputs": [
    {
     "data": {
      "text/html": [
       "<div>\n",
       "<style scoped>\n",
       "    .dataframe tbody tr th:only-of-type {\n",
       "        vertical-align: middle;\n",
       "    }\n",
       "\n",
       "    .dataframe tbody tr th {\n",
       "        vertical-align: top;\n",
       "    }\n",
       "\n",
       "    .dataframe thead th {\n",
       "        text-align: right;\n",
       "    }\n",
       "</style>\n",
       "<table border=\"1\" class=\"dataframe\">\n",
       "  <thead>\n",
       "    <tr style=\"text-align: right;\">\n",
       "      <th></th>\n",
       "      <th>date</th>\n",
       "      <th>ISE</th>\n",
       "      <th>ISE.1</th>\n",
       "      <th>SP</th>\n",
       "      <th>DAX</th>\n",
       "      <th>FTSE</th>\n",
       "      <th>NIKKEI</th>\n",
       "      <th>BOVESPA</th>\n",
       "      <th>EU</th>\n",
       "      <th>EM</th>\n",
       "    </tr>\n",
       "  </thead>\n",
       "  <tbody>\n",
       "    <tr>\n",
       "      <th>0</th>\n",
       "      <td>2009-01-05</td>\n",
       "      <td>0.035754</td>\n",
       "      <td>0.038376</td>\n",
       "      <td>-0.004679</td>\n",
       "      <td>0.002193</td>\n",
       "      <td>0.003894</td>\n",
       "      <td>0.000000</td>\n",
       "      <td>0.031190</td>\n",
       "      <td>0.012698</td>\n",
       "      <td>0.028524</td>\n",
       "    </tr>\n",
       "    <tr>\n",
       "      <th>1</th>\n",
       "      <td>2009-01-06</td>\n",
       "      <td>0.025426</td>\n",
       "      <td>0.031813</td>\n",
       "      <td>0.007787</td>\n",
       "      <td>0.008455</td>\n",
       "      <td>0.012866</td>\n",
       "      <td>0.004162</td>\n",
       "      <td>0.018920</td>\n",
       "      <td>0.011341</td>\n",
       "      <td>0.008773</td>\n",
       "    </tr>\n",
       "    <tr>\n",
       "      <th>2</th>\n",
       "      <td>2009-01-07</td>\n",
       "      <td>-0.028862</td>\n",
       "      <td>-0.026353</td>\n",
       "      <td>-0.030469</td>\n",
       "      <td>-0.017833</td>\n",
       "      <td>-0.028735</td>\n",
       "      <td>0.017293</td>\n",
       "      <td>-0.035899</td>\n",
       "      <td>-0.017073</td>\n",
       "      <td>-0.020015</td>\n",
       "    </tr>\n",
       "    <tr>\n",
       "      <th>3</th>\n",
       "      <td>2009-01-08</td>\n",
       "      <td>-0.062208</td>\n",
       "      <td>-0.084716</td>\n",
       "      <td>0.003391</td>\n",
       "      <td>-0.011726</td>\n",
       "      <td>-0.000466</td>\n",
       "      <td>-0.040061</td>\n",
       "      <td>0.028283</td>\n",
       "      <td>-0.005561</td>\n",
       "      <td>-0.019424</td>\n",
       "    </tr>\n",
       "    <tr>\n",
       "      <th>4</th>\n",
       "      <td>2009-01-09</td>\n",
       "      <td>0.009860</td>\n",
       "      <td>0.009658</td>\n",
       "      <td>-0.021533</td>\n",
       "      <td>-0.019873</td>\n",
       "      <td>-0.012710</td>\n",
       "      <td>-0.004474</td>\n",
       "      <td>-0.009764</td>\n",
       "      <td>-0.010989</td>\n",
       "      <td>-0.007802</td>\n",
       "    </tr>\n",
       "  </tbody>\n",
       "</table>\n",
       "</div>"
      ],
      "text/plain": [
       "        date       ISE     ISE.1        SP       DAX      FTSE    NIKKEI  \\\n",
       "0 2009-01-05  0.035754  0.038376 -0.004679  0.002193  0.003894  0.000000   \n",
       "1 2009-01-06  0.025426  0.031813  0.007787  0.008455  0.012866  0.004162   \n",
       "2 2009-01-07 -0.028862 -0.026353 -0.030469 -0.017833 -0.028735  0.017293   \n",
       "3 2009-01-08 -0.062208 -0.084716  0.003391 -0.011726 -0.000466 -0.040061   \n",
       "4 2009-01-09  0.009860  0.009658 -0.021533 -0.019873 -0.012710 -0.004474   \n",
       "\n",
       "    BOVESPA        EU        EM  \n",
       "0  0.031190  0.012698  0.028524  \n",
       "1  0.018920  0.011341  0.008773  \n",
       "2 -0.035899 -0.017073 -0.020015  \n",
       "3  0.028283 -0.005561 -0.019424  \n",
       "4 -0.009764 -0.010989 -0.007802  "
      ]
     },
     "execution_count": 5,
     "metadata": {},
     "output_type": "execute_result"
    }
   ],
   "source": [
    "df.head()"
   ]
  },
  {
   "cell_type": "markdown",
   "id": "449e88a0",
   "metadata": {
    "id": "TfZHxz4b-ivT",
    "papermill": {
     "duration": 0.034477,
     "end_time": "2021-10-04T07:31:23.592628",
     "exception": false,
     "start_time": "2021-10-04T07:31:23.558151",
     "status": "completed"
    },
    "tags": []
   },
   "source": [
    "\n",
    "## Plot of ISE vs Date"
   ]
  },
  {
   "cell_type": "code",
   "execution_count": 6,
   "id": "3c4c6e8c",
   "metadata": {
    "execution": {
     "iopub.execute_input": "2021-10-04T07:31:23.673499Z",
     "iopub.status.busy": "2021-10-04T07:31:23.670329Z",
     "iopub.status.idle": "2021-10-04T07:31:24.162208Z",
     "shell.execute_reply": "2021-10-04T07:31:24.162743Z",
     "shell.execute_reply.started": "2021-10-04T07:22:45.571879Z"
    },
    "id": "E75nsZFJWnVK",
    "outputId": "c87b504e-cdd3-42c3-dfe1-ff046dfab01e",
    "papermill": {
     "duration": 0.536043,
     "end_time": "2021-10-04T07:31:24.162914",
     "exception": false,
     "start_time": "2021-10-04T07:31:23.626871",
     "status": "completed"
    },
    "tags": []
   },
   "outputs": [
    {
     "data": {
      "image/png": "[encoded data removed]",
      "text/plain": [
       "<Figure size 864x504 with 1 Axes>"
      ]
     },
     "metadata": {
      "needs_background": "light"
     },
     "output_type": "display_data"
    }
   ],
   "source": [
    "plt.figure(figsize=(12,7))\n",
    "sns.lineplot(x='date',y='ISE',data=df)\n",
    "plt.show()"
   ]
  },
  {
   "cell_type": "markdown",
   "id": "107555f4",
   "metadata": {
    "id": "E0ikTpyRNNQ4",
    "papermill": {
     "duration": 0.036165,
     "end_time": "2021-10-04T07:31:24.236404",
     "exception": false,
     "start_time": "2021-10-04T07:31:24.200239",
     "status": "completed"
    },
    "tags": []
   },
   "source": [
    "## Transforming the data"
   ]
  },
  {
   "cell_type": "code",
   "execution_count": 7,
   "id": "9c15511a",
   "metadata": {
    "execution": {
     "iopub.execute_input": "2021-10-04T07:31:24.319905Z",
     "iopub.status.busy": "2021-10-04T07:31:24.319248Z",
     "iopub.status.idle": "2021-10-04T07:31:24.354455Z",
     "shell.execute_reply": "2021-10-04T07:31:24.354951Z",
     "shell.execute_reply.started": "2021-10-04T07:22:49.752912Z"
    },
    "id": "8gVhEw3Mrc3f",
    "outputId": "9c92611c-3f93-45fa-be88-898b8742eae5",
    "papermill": {
     "duration": 0.081608,
     "end_time": "2021-10-04T07:31:24.355124",
     "exception": false,
     "start_time": "2021-10-04T07:31:24.273516",
     "status": "completed"
    },
    "tags": []
   },
   "outputs": [
    {
     "data": {
      "text/html": [
       "<div>\n",
       "<style scoped>\n",
       "    .dataframe tbody tr th:only-of-type {\n",
       "        vertical-align: middle;\n",
       "    }\n",
       "\n",
       "    .dataframe tbody tr th {\n",
       "        vertical-align: top;\n",
       "    }\n",
       "\n",
       "    .dataframe thead th {\n",
       "        text-align: right;\n",
       "    }\n",
       "</style>\n",
       "<table border=\"1\" class=\"dataframe\">\n",
       "  <thead>\n",
       "    <tr style=\"text-align: right;\">\n",
       "      <th></th>\n",
       "      <th>ISE</th>\n",
       "    </tr>\n",
       "    <tr>\n",
       "      <th>date</th>\n",
       "      <th></th>\n",
       "    </tr>\n",
       "  </thead>\n",
       "  <tbody>\n",
       "    <tr>\n",
       "      <th>2009-01-05</th>\n",
       "      <td>0.035754</td>\n",
       "    </tr>\n",
       "    <tr>\n",
       "      <th>2009-01-06</th>\n",
       "      <td>0.025426</td>\n",
       "    </tr>\n",
       "    <tr>\n",
       "      <th>2009-01-07</th>\n",
       "      <td>-0.028862</td>\n",
       "    </tr>\n",
       "    <tr>\n",
       "      <th>2009-01-08</th>\n",
       "      <td>-0.062208</td>\n",
       "    </tr>\n",
       "    <tr>\n",
       "      <th>2009-01-09</th>\n",
       "      <td>0.009860</td>\n",
       "    </tr>\n",
       "  </tbody>\n",
       "</table>\n",
       "</div>"
      ],
      "text/plain": [
       "                 ISE\n",
       "date                \n",
       "2009-01-05  0.035754\n",
       "2009-01-06  0.025426\n",
       "2009-01-07 -0.028862\n",
       "2009-01-08 -0.062208\n",
       "2009-01-09  0.009860"
      ]
     },
     "execution_count": 7,
     "metadata": {},
     "output_type": "execute_result"
    }
   ],
   "source": [
    "df.drop(columns=['SP','ISE.1','DAX','FTSE','NIKKEI','BOVESPA','EU','EM'],inplace=True)\n",
    "df.date = pd.to_datetime(df.date, dayfirst = True)\n",
    "df.set_index(\"date\", inplace=True)\n",
    "df=df.asfreq('b')\n",
    "df=df.fillna(method='ffill')\n",
    "df.head()"
   ]
  },
  {
   "cell_type": "markdown",
   "id": "a8268a21",
   "metadata": {
    "id": "XpF0V_DrOQsc",
    "papermill": {
     "duration": 0.037043,
     "end_time": "2021-10-04T07:31:24.429136",
     "exception": false,
     "start_time": "2021-10-04T07:31:24.392093",
     "status": "completed"
    },
    "tags": []
   },
   "source": [
    "## For a time series to be weak form stationarity/covariance stationarity, it should have:\n",
    "\n",
    "1. Constant mean  \n",
    "2. Constant variance\n",
    "3. Consistent covariance\n",
    "\n"
   ]
  },
  {
   "cell_type": "code",
   "execution_count": 8,
   "id": "44f15f97",
   "metadata": {
    "execution": {
     "iopub.execute_input": "2021-10-04T07:31:24.506508Z",
     "iopub.status.busy": "2021-10-04T07:31:24.505893Z",
     "iopub.status.idle": "2021-10-04T07:31:24.518147Z",
     "shell.execute_reply": "2021-10-04T07:31:24.518644Z",
     "shell.execute_reply.started": "2021-10-04T07:22:53.514162Z"
    },
    "id": "7t8PtqHOrc5G",
    "outputId": "b19c15b9-496d-4771-f52a-c3ef812c32a6",
    "papermill": {
     "duration": 0.052436,
     "end_time": "2021-10-04T07:31:24.518813",
     "exception": false,
     "start_time": "2021-10-04T07:31:24.466377",
     "status": "completed"
    },
    "tags": []
   },
   "outputs": [
    {
     "data": {
      "text/html": [
       "<div>\n",
       "<style scoped>\n",
       "    .dataframe tbody tr th:only-of-type {\n",
       "        vertical-align: middle;\n",
       "    }\n",
       "\n",
       "    .dataframe tbody tr th {\n",
       "        vertical-align: top;\n",
       "    }\n",
       "\n",
       "    .dataframe thead th {\n",
       "        text-align: right;\n",
       "    }\n",
       "</style>\n",
       "<table border=\"1\" class=\"dataframe\">\n",
       "  <thead>\n",
       "    <tr style=\"text-align: right;\">\n",
       "      <th></th>\n",
       "      <th>ISE</th>\n",
       "    </tr>\n",
       "  </thead>\n",
       "  <tbody>\n",
       "    <tr>\n",
       "      <th>count</th>\n",
       "      <td>557.000000</td>\n",
       "    </tr>\n",
       "    <tr>\n",
       "      <th>mean</th>\n",
       "      <td>0.001611</td>\n",
       "    </tr>\n",
       "    <tr>\n",
       "      <th>std</th>\n",
       "      <td>0.016220</td>\n",
       "    </tr>\n",
       "    <tr>\n",
       "      <th>min</th>\n",
       "      <td>-0.062208</td>\n",
       "    </tr>\n",
       "    <tr>\n",
       "      <th>25%</th>\n",
       "      <td>-0.006520</td>\n",
       "    </tr>\n",
       "    <tr>\n",
       "      <th>50%</th>\n",
       "      <td>0.002217</td>\n",
       "    </tr>\n",
       "    <tr>\n",
       "      <th>75%</th>\n",
       "      <td>0.010203</td>\n",
       "    </tr>\n",
       "    <tr>\n",
       "      <th>max</th>\n",
       "      <td>0.068952</td>\n",
       "    </tr>\n",
       "  </tbody>\n",
       "</table>\n",
       "</div>"
      ],
      "text/plain": [
       "              ISE\n",
       "count  557.000000\n",
       "mean     0.001611\n",
       "std      0.016220\n",
       "min     -0.062208\n",
       "25%     -0.006520\n",
       "50%      0.002217\n",
       "75%      0.010203\n",
       "max      0.068952"
      ]
     },
     "execution_count": 8,
     "metadata": {},
     "output_type": "execute_result"
    }
   ],
   "source": [
    "df.describe()"
   ]
  },
  {
   "cell_type": "markdown",
   "id": "4b6ed6ea",
   "metadata": {
    "id": "rjFSHzrQNSw6",
    "papermill": {
     "duration": 0.037028,
     "end_time": "2021-10-04T07:31:24.593377",
     "exception": false,
     "start_time": "2021-10-04T07:31:24.556349",
     "status": "completed"
    },
    "tags": []
   },
   "source": [
    "\n",
    "### An example of weak-form stationarity is white noise, as it follows the following conditions:\n",
    "\n",
    "1.   Mean = 0\n",
    "2.   constant variance\n",
    "3.   autocorrelation between lags is 0\n",
    "\n",
    "### 1. Mean comes out to be almost equal to zero\n",
    "### Standard deviation is also almost equal to zero\n",
    "### This leads to the assumption that this time series is white noise\n",
    "\n"
   ]
  },
  {
   "cell_type": "code",
   "execution_count": 9,
   "id": "e226c77e",
   "metadata": {
    "execution": {
     "iopub.execute_input": "2021-10-04T07:31:24.671866Z",
     "iopub.status.busy": "2021-10-04T07:31:24.670860Z",
     "iopub.status.idle": "2021-10-04T07:31:24.920473Z",
     "shell.execute_reply": "2021-10-04T07:31:24.919753Z",
     "shell.execute_reply.started": "2021-10-04T07:22:54.870244Z"
    },
    "id": "KjV1nVM4gA3h",
    "outputId": "829e18fb-5652-47f7-e719-eb6bff1ebf6a",
    "papermill": {
     "duration": 0.289954,
     "end_time": "2021-10-04T07:31:24.920617",
     "exception": false,
     "start_time": "2021-10-04T07:31:24.630663",
     "status": "completed"
    },
    "tags": []
   },
   "outputs": [
    {
     "data": {
      "image/png": "[encoded data removed]",
      "text/plain": [
       "<Figure size 432x288 with 1 Axes>"
      ]
     },
     "metadata": {
      "needs_background": "light"
     },
     "output_type": "display_data"
    }
   ],
   "source": [
    "df.hist()\n",
    "plt.title(\"Distribution of values of ISE\")\n",
    "plt.show()"
   ]
  },
  {
   "cell_type": "markdown",
   "id": "f3a1fca5",
   "metadata": {
    "id": "PlMFCng4REFw",
    "papermill": {
     "duration": 0.037694,
     "end_time": "2021-10-04T07:31:24.996400",
     "exception": false,
     "start_time": "2021-10-04T07:31:24.958706",
     "status": "completed"
    },
    "tags": []
   },
   "source": [
    "### The Histogram proves how the mean is close to zero and that it follows a Gaussian distribution"
   ]
  },
  {
   "cell_type": "markdown",
   "id": "00ab346a",
   "metadata": {
    "id": "JyhAu_4pT3bG",
    "papermill": {
     "duration": 0.038285,
     "end_time": "2021-10-04T07:31:25.072943",
     "exception": false,
     "start_time": "2021-10-04T07:31:25.034658",
     "status": "completed"
    },
    "tags": []
   },
   "source": [
    "### To see if the time series has constant variance we split the data and check for the mean and variance"
   ]
  },
  {
   "cell_type": "code",
   "execution_count": 10,
   "id": "1b8a9c7c",
   "metadata": {
    "execution": {
     "iopub.execute_input": "2021-10-04T07:31:25.159320Z",
     "iopub.status.busy": "2021-10-04T07:31:25.158674Z",
     "iopub.status.idle": "2021-10-04T07:31:25.161748Z",
     "shell.execute_reply": "2021-10-04T07:31:25.162503Z",
     "shell.execute_reply.started": "2021-10-04T07:22:56.16066Z"
    },
    "id": "_vIE-PwTcwJv",
    "outputId": "4042a018-9227-417e-f49b-19184bec29a6",
    "papermill": {
     "duration": 0.051627,
     "end_time": "2021-10-04T07:31:25.162686",
     "exception": false,
     "start_time": "2021-10-04T07:31:25.111059",
     "status": "completed"
    },
    "tags": []
   },
   "outputs": [
    {
     "name": "stdout",
     "output_type": "stream",
     "text": [
      "Mean of first half of data: 0.002663\n",
      "Mean of second half of data: 0.000562\n",
      "Variance of first half of data: 0.000310\n",
      "Variance of second half of data: 0.000215\n"
     ]
    }
   ],
   "source": [
    "a = round(len(df)/2)\n",
    "data1 = df[:a]\n",
    "data2 = df[a:]\n",
    "print('Mean of first half of data: %f'%data1.mean())\n",
    "print('Mean of second half of data: %f'%data2.mean())\n",
    "print('Variance of first half of data: %f'%data1.var())\n",
    "print('Variance of second half of data: %f'%data2.var())"
   ]
  },
  {
   "cell_type": "markdown",
   "id": "0fce7528",
   "metadata": {
    "id": "8nTt-5BJV_Ye",
    "papermill": {
     "duration": 0.037829,
     "end_time": "2021-10-04T07:31:25.239159",
     "exception": false,
     "start_time": "2021-10-04T07:31:25.201330",
     "status": "completed"
    },
    "tags": []
   },
   "source": [
    "###2. It is seen that the variance is constant among the 2 halves of data\n",
    "### Hence the data is seen to satisfy the 2nd assumption of white noise as well"
   ]
  },
  {
   "cell_type": "markdown",
   "id": "7cf2d9b8",
   "metadata": {
    "id": "BPTEYKGdsExX",
    "papermill": {
     "duration": 0.037977,
     "end_time": "2021-10-04T07:31:25.315312",
     "exception": false,
     "start_time": "2021-10-04T07:31:25.277335",
     "status": "completed"
    },
    "tags": []
   },
   "source": [
    "### **Autocorrelation Plot**"
   ]
  },
  {
   "cell_type": "code",
   "execution_count": 11,
   "id": "5d31dbf2",
   "metadata": {
    "execution": {
     "iopub.execute_input": "2021-10-04T07:31:25.395242Z",
     "iopub.status.busy": "2021-10-04T07:31:25.394618Z",
     "iopub.status.idle": "2021-10-04T07:31:25.652197Z",
     "shell.execute_reply": "2021-10-04T07:31:25.652667Z",
     "shell.execute_reply.started": "2021-10-04T07:22:57.398141Z"
    },
    "id": "bkYlOTbXTTR7",
    "outputId": "c7708c0d-598b-493e-ac64-69ea54b4c4ca",
    "papermill": {
     "duration": 0.299462,
     "end_time": "2021-10-04T07:31:25.652840",
     "exception": false,
     "start_time": "2021-10-04T07:31:25.353378",
     "status": "completed"
    },
    "tags": []
   },
   "outputs": [
    {
     "data": {
      "text/plain": [
       "<AxesSubplot:xlabel='Lag', ylabel='Autocorrelation'>"
      ]
     },
     "execution_count": 11,
     "metadata": {},
     "output_type": "execute_result"
    },
    {
     "data": {
      "image/png": "[encoded data removed]",
      "text/plain": [
       "<Figure size 432x288 with 1 Axes>"
      ]
     },
     "metadata": {
      "needs_background": "light"
     },
     "output_type": "display_data"
    }
   ],
   "source": [
    "from pandas.plotting import autocorrelation_plot\n",
    "autocorrelation_plot(df.ISE)"
   ]
  },
  {
   "cell_type": "markdown",
   "id": "90ba3698",
   "metadata": {
    "id": "ZLCEwdmZuEkR",
    "papermill": {
     "duration": 0.039308,
     "end_time": "2021-10-04T07:31:25.731751",
     "exception": false,
     "start_time": "2021-10-04T07:31:25.692443",
     "status": "completed"
    },
    "tags": []
   },
   "source": [
    "### Clearly all the autocorrelation values are close to zero proving the time series is random and there is no autocorrelation between values\n",
    "### Hence it is white noise"
   ]
  },
  {
   "cell_type": "markdown",
   "id": "35f8c009",
   "metadata": {
    "id": "gJdA9FZNvFq0",
    "papermill": {
     "duration": 0.038971,
     "end_time": "2021-10-04T07:31:25.810083",
     "exception": false,
     "start_time": "2021-10-04T07:31:25.771112",
     "status": "completed"
    },
    "tags": []
   },
   "source": [
    "## **Seasonality**"
   ]
  },
  {
   "cell_type": "code",
   "execution_count": 12,
   "id": "d2d24e70",
   "metadata": {
    "execution": {
     "iopub.execute_input": "2021-10-04T07:31:25.893393Z",
     "iopub.status.busy": "2021-10-04T07:31:25.892733Z",
     "iopub.status.idle": "2021-10-04T07:31:25.895773Z",
     "shell.execute_reply": "2021-10-04T07:31:25.896237Z",
     "shell.execute_reply.started": "2021-10-04T07:22:58.600111Z"
    },
    "id": "vVERq1JJTTNe",
    "papermill": {
     "duration": 0.046829,
     "end_time": "2021-10-04T07:31:25.896418",
     "exception": false,
     "start_time": "2021-10-04T07:31:25.849589",
     "status": "completed"
    },
    "tags": []
   },
   "outputs": [],
   "source": [
    "from statsmodels.tsa.seasonal import seasonal_decompose"
   ]
  },
  {
   "cell_type": "code",
   "execution_count": 13,
   "id": "c4bb36b1",
   "metadata": {
    "execution": {
     "iopub.execute_input": "2021-10-04T07:31:25.979391Z",
     "iopub.status.busy": "2021-10-04T07:31:25.978767Z",
     "iopub.status.idle": "2021-10-04T07:31:26.795648Z",
     "shell.execute_reply": "2021-10-04T07:31:26.796384Z",
     "shell.execute_reply.started": "2021-10-04T07:22:58.926901Z"
    },
    "id": "XKSD5h6cTTLk",
    "outputId": "2b66f3ac-8586-4757-abf6-4832805ca6cc",
    "papermill": {
     "duration": 0.860388,
     "end_time": "2021-10-04T07:31:26.796625",
     "exception": false,
     "start_time": "2021-10-04T07:31:25.936237",
     "status": "completed"
    },
    "tags": []
   },
   "outputs": [
    {
     "data": {
      "image/png": "[encoded data removed]",
      "text/plain": [
       "<Figure size 432x288 with 4 Axes>"
      ]
     },
     "metadata": {
      "needs_background": "light"
     },
     "output_type": "display_data"
    }
   ],
   "source": [
    "s_dec_additive = seasonal_decompose(x=df.ISE,model='additive')\n",
    "s_dec_additive.plot()\n",
    "plt.show()"
   ]
  },
  {
   "cell_type": "markdown",
   "id": "28b93339",
   "metadata": {
    "id": "mpiupKS31ziM",
    "papermill": {
     "duration": 0.04546,
     "end_time": "2021-10-04T07:31:26.888546",
     "exception": false,
     "start_time": "2021-10-04T07:31:26.843086",
     "status": "completed"
    },
    "tags": []
   },
   "source": [
    "### Here from the above graphs we can see that:\n",
    "\n",
    "1.   The trend resembles the observed graph and has no clear positive or negative incline\n",
    "2.   The seasonal sequence has no clear pattern, hence there is no pattern in graph\n",
    "3.   Residual also has no fixed pattern as well\n",
    "\n",
    "### Hence there is no seasonality in the above time series\n",
    "\n"
   ]
  },
  {
   "cell_type": "code",
   "execution_count": 14,
   "id": "a96bcdd4",
   "metadata": {
    "execution": {
     "iopub.execute_input": "2021-10-04T07:31:26.976468Z",
     "iopub.status.busy": "2021-10-04T07:31:26.975730Z",
     "iopub.status.idle": "2021-10-04T07:31:26.978627Z",
     "shell.execute_reply": "2021-10-04T07:31:26.978134Z",
     "shell.execute_reply.started": "2021-10-04T07:22:59.637591Z"
    },
    "id": "OaIaKWJCTTAc",
    "papermill": {
     "duration": 0.04851,
     "end_time": "2021-10-04T07:31:26.978780",
     "exception": false,
     "start_time": "2021-10-04T07:31:26.930270",
     "status": "completed"
    },
    "tags": []
   },
   "outputs": [],
   "source": [
    "from statsmodels.tsa.stattools import adfuller\n",
    "from statsmodels.tsa.arima_model import ARIMA"
   ]
  },
  {
   "cell_type": "markdown",
   "id": "9fedc1a6",
   "metadata": {
    "id": "a4AuARdbSUV-",
    "papermill": {
     "duration": 0.041565,
     "end_time": "2021-10-04T07:31:27.061710",
     "exception": false,
     "start_time": "2021-10-04T07:31:27.020145",
     "status": "completed"
    },
    "tags": []
   },
   "source": [
    "## **Ad Fuller for Stationarity**"
   ]
  },
  {
   "cell_type": "code",
   "execution_count": 15,
   "id": "49e94ee4",
   "metadata": {
    "execution": {
     "iopub.execute_input": "2021-10-04T07:31:27.148506Z",
     "iopub.status.busy": "2021-10-04T07:31:27.147890Z",
     "iopub.status.idle": "2021-10-04T07:31:27.152301Z",
     "shell.execute_reply": "2021-10-04T07:31:27.152789Z",
     "shell.execute_reply.started": "2021-10-04T07:23:00.736061Z"
    },
    "id": "IhlcCmd1SC2o",
    "papermill": {
     "duration": 0.049038,
     "end_time": "2021-10-04T07:31:27.152954",
     "exception": false,
     "start_time": "2021-10-04T07:31:27.103916",
     "status": "completed"
    },
    "tags": []
   },
   "outputs": [],
   "source": [
    "def ad_fuller_test(sales):\n",
    "  results = adfuller(sales)\n",
    "  labels = ['Test Statistic','p-value','Number of lags used','Number of Observations','Critical Value']\n",
    "  for values, labels in zip(results,labels):\n",
    "    print(labels,' : ',str(values))"
   ]
  },
  {
   "cell_type": "code",
   "execution_count": 16,
   "id": "62c85956",
   "metadata": {
    "execution": {
     "iopub.execute_input": "2021-10-04T07:31:27.241916Z",
     "iopub.status.busy": "2021-10-04T07:31:27.241189Z",
     "iopub.status.idle": "2021-10-04T07:31:27.289996Z",
     "shell.execute_reply": "2021-10-04T07:31:27.291075Z",
     "shell.execute_reply.started": "2021-10-04T07:23:01.129919Z"
    },
    "id": "8MZMaKR0SCy6",
    "outputId": "eddb1998-cafd-4f51-dfc8-5a202870809a",
    "papermill": {
     "duration": 0.096791,
     "end_time": "2021-10-04T07:31:27.291403",
     "exception": false,
     "start_time": "2021-10-04T07:31:27.194612",
     "status": "completed"
    },
    "tags": []
   },
   "outputs": [
    {
     "name": "stdout",
     "output_type": "stream",
     "text": [
      "Test Statistic  :  -22.459616803357637\n",
      "p-value  :  0.0\n",
      "Number of lags used  :  0\n",
      "Number of Observations  :  556\n",
      "Critical Value  :  {'1%': -3.4421660928041633, '5%': -2.8667523104859627, '10%': -2.56954599309042}\n"
     ]
    }
   ],
   "source": [
    "ad_fuller_test(df['ISE'])"
   ]
  },
  {
   "cell_type": "markdown",
   "id": "00c9af56",
   "metadata": {
    "id": "CIrw3ua-Sb08",
    "papermill": {
     "duration": 0.056693,
     "end_time": "2021-10-04T07:31:27.426665",
     "exception": false,
     "start_time": "2021-10-04T07:31:27.369972",
     "status": "completed"
    },
    "tags": []
   },
   "source": [
    "### As p<0.05, hence the null hypothesis is rejected, the data is stationary\n",
    "1.   Test statistic is less than all of 1%, 5%, 10% values \n",
    "2.   p-value is 0\n",
    "3.   As it is white noise and there is no autocorrelation among the values of the time series, hence lags=0\n",
    "4. The time series is stationary and further confirms that the series is white noise\n",
    "\n"
   ]
  },
  {
   "cell_type": "markdown",
   "id": "13eaf6a4",
   "metadata": {
    "id": "2z4wEGUmyVJo",
    "papermill": {
     "duration": 0.04168,
     "end_time": "2021-10-04T07:31:27.511414",
     "exception": false,
     "start_time": "2021-10-04T07:31:27.469734",
     "status": "completed"
    },
    "tags": []
   },
   "source": [
    "## **ACF Plot**\n",
    "### Plotting the graph from 1st lag as for the 0th lag, correlation between and itself will be 1"
   ]
  },
  {
   "cell_type": "code",
   "execution_count": 17,
   "id": "37931027",
   "metadata": {
    "execution": {
     "iopub.execute_input": "2021-10-04T07:31:27.610981Z",
     "iopub.status.busy": "2021-10-04T07:31:27.609926Z",
     "iopub.status.idle": "2021-10-04T07:31:27.824452Z",
     "shell.execute_reply": "2021-10-04T07:31:27.823344Z",
     "shell.execute_reply.started": "2021-10-04T07:23:02.761106Z"
    },
    "id": "8UYRfNlk2ULC",
    "outputId": "2b8793f5-1d17-4467-aee4-75f9757df684",
    "papermill": {
     "duration": 0.271555,
     "end_time": "2021-10-04T07:31:27.824765",
     "exception": false,
     "start_time": "2021-10-04T07:31:27.553210",
     "status": "completed"
    },
    "tags": []
   },
   "outputs": [
    {
     "data": {
      "image/png": "[encoded data removed]",
      "text/plain": [
       "<Figure size 432x288 with 1 Axes>"
      ]
     },
     "metadata": {
      "needs_background": "light"
     },
     "output_type": "display_data"
    }
   ],
   "source": [
    "sm.graphics.tsa.plot_acf(df.ISE,lags=40,zero=False)\n",
    "plt.title('SP-ACF',size=20)\n",
    "plt.show()"
   ]
  },
  {
   "cell_type": "markdown",
   "id": "ed920f31",
   "metadata": {
    "id": "WBeniTCF0TT4",
    "papermill": {
     "duration": 0.042192,
     "end_time": "2021-10-04T07:31:27.910426",
     "exception": false,
     "start_time": "2021-10-04T07:31:27.868234",
     "status": "completed"
    },
    "tags": []
   },
   "source": [
    "### All the lines fall within the blue area of significance, suggesting that the coefficients are not significant, hence there is no autocorrelation between lags"
   ]
  },
  {
   "cell_type": "markdown",
   "id": "f3ff748a",
   "metadata": {
    "id": "CjstAgBCz7bt",
    "papermill": {
     "duration": 0.041967,
     "end_time": "2021-10-04T07:31:27.994798",
     "exception": false,
     "start_time": "2021-10-04T07:31:27.952831",
     "status": "completed"
    },
    "tags": []
   },
   "source": [
    "## **PACF Plot**\n",
    "### Again,plotting the graph from 1st lag as for the 0th lag, correlation between and itself will be 1"
   ]
  },
  {
   "cell_type": "code",
   "execution_count": 18,
   "id": "3bfb0efe",
   "metadata": {
    "execution": {
     "iopub.execute_input": "2021-10-04T07:31:28.083607Z",
     "iopub.status.busy": "2021-10-04T07:31:28.082589Z",
     "iopub.status.idle": "2021-10-04T07:31:28.329075Z",
     "shell.execute_reply": "2021-10-04T07:31:28.328331Z",
     "shell.execute_reply.started": "2021-10-04T07:23:04.111361Z"
    },
    "id": "N3mYpo_WgA96",
    "outputId": "c3904e55-40af-4736-a5eb-6c46f88d2b67",
    "papermill": {
     "duration": 0.292055,
     "end_time": "2021-10-04T07:31:28.329213",
     "exception": false,
     "start_time": "2021-10-04T07:31:28.037158",
     "status": "completed"
    },
    "tags": []
   },
   "outputs": [
    {
     "data": {
      "image/png": "[encoded data removed]",
      "text/plain": [
       "<Figure size 432x288 with 1 Axes>"
      ]
     },
     "metadata": {
      "needs_background": "light"
     },
     "output_type": "display_data"
    }
   ],
   "source": [
    "sm.graphics.tsa.plot_pacf(df.ISE,lags=40,zero=False)\n",
    "plt.show()"
   ]
  },
  {
   "cell_type": "markdown",
   "id": "e6b5e90a",
   "metadata": {
    "id": "jF2dgNiq0whM",
    "papermill": {
     "duration": 0.042742,
     "end_time": "2021-10-04T07:31:28.415349",
     "exception": false,
     "start_time": "2021-10-04T07:31:28.372607",
     "status": "completed"
    },
    "tags": []
   },
   "source": [
    "### Same as ACF Plot, there is no partial correlation among lags which proves our assumptions of white noise\n",
    "\n",
    "### ---------------------------------------------------------------------------"
   ]
  },
  {
   "cell_type": "markdown",
   "id": "63be5f8e",
   "metadata": {
    "id": "hZJx091-48vT",
    "papermill": {
     "duration": 0.043122,
     "end_time": "2021-10-04T07:31:28.501965",
     "exception": false,
     "start_time": "2021-10-04T07:31:28.458843",
     "status": "completed"
    },
    "tags": []
   },
   "source": [
    "### If a time series is white noise it is not forecastable by definition (because its values at different times are statistically independent) \n",
    "### The above statement is proven by fitting to an ARIMA model"
   ]
  },
  {
   "cell_type": "code",
   "execution_count": 19,
   "id": "ae119ea2",
   "metadata": {
    "execution": {
     "iopub.execute_input": "2021-10-04T07:31:28.592446Z",
     "iopub.status.busy": "2021-10-04T07:31:28.591774Z",
     "iopub.status.idle": "2021-10-04T07:31:38.780335Z",
     "shell.execute_reply": "2021-10-04T07:31:38.779771Z",
     "shell.execute_reply.started": "2021-10-04T07:23:05.493566Z"
    },
    "id": "s7w8HudrFrPE",
    "outputId": "02a9c6b0-46e7-445e-afc1-b37a68c81f44",
    "papermill": {
     "duration": 10.235111,
     "end_time": "2021-10-04T07:31:38.780483",
     "exception": false,
     "start_time": "2021-10-04T07:31:28.545372",
     "status": "completed"
    },
    "tags": []
   },
   "outputs": [
    {
     "name": "stdout",
     "output_type": "stream",
     "text": [
      "Collecting pmdarima\r\n",
      "  Downloading pmdarima-1.8.3-cp37-cp37m-manylinux_2_17_x86_64.manylinux2014_x86_64.manylinux_2_24_x86_64.whl (1.4 MB)\r\n",
      "\u001b[K     |████████████████████████████████| 1.4 MB 806 kB/s \r\n",
      "\u001b[?25hRequirement already satisfied: statsmodels!=0.12.0,>=0.11 in /opt/conda/lib/python3.7/site-packages (from pmdarima) (0.12.2)\r\n",
      "Requirement already satisfied: numpy>=1.19.3 in /opt/conda/lib/python3.7/site-packages (from pmdarima) (1.19.5)\r\n",
      "Requirement already satisfied: pandas>=0.19 in /opt/conda/lib/python3.7/site-packages (from pmdarima) (1.3.2)\r\n",
      "Requirement already satisfied: Cython!=0.29.18,>=0.29 in /opt/conda/lib/python3.7/site-packages (from pmdarima) (0.29.24)\r\n",
      "Requirement already satisfied: setuptools!=50.0.0,>=38.6.0 in /opt/conda/lib/python3.7/site-packages (from pmdarima) (57.4.0)\r\n",
      "Requirement already satisfied: scikit-learn>=0.22 in /opt/conda/lib/python3.7/site-packages (from pmdarima) (0.23.2)\r\n",
      "Requirement already satisfied: urllib3 in /opt/conda/lib/python3.7/site-packages (from pmdarima) (1.26.6)\r\n",
      "Requirement already satisfied: scipy>=1.3.2 in /opt/conda/lib/python3.7/site-packages (from pmdarima) (1.7.1)\r\n",
      "Requirement already satisfied: joblib>=0.11 in /opt/conda/lib/python3.7/site-packages (from pmdarima) (1.0.1)\r\n",
      "Requirement already satisfied: python-dateutil>=2.7.3 in /opt/conda/lib/python3.7/site-packages (from pandas>=0.19->pmdarima) (2.8.0)\r\n",
      "Requirement already satisfied: pytz>=2017.3 in /opt/conda/lib/python3.7/site-packages (from pandas>=0.19->pmdarima) (2021.1)\r\n",
      "Requirement already satisfied: six>=1.5 in /opt/conda/lib/python3.7/site-packages (from python-dateutil>=2.7.3->pandas>=0.19->pmdarima) (1.15.0)\r\n",
      "Requirement already satisfied: threadpoolctl>=2.0.0 in /opt/conda/lib/python3.7/site-packages (from scikit-learn>=0.22->pmdarima) (2.2.0)\r\n",
      "Requirement already satisfied: patsy>=0.5 in /opt/conda/lib/python3.7/site-packages (from statsmodels!=0.12.0,>=0.11->pmdarima) (0.5.1)\r\n",
      "Installing collected packages: pmdarima\r\n",
      "Successfully installed pmdarima-1.8.3\r\n",
      "\u001b[33mWARNING: Running pip as the 'root' user can result in broken permissions and conflicting behaviour with the system package manager. It is recommended to use a virtual environment instead: https://pip.pypa.io/warnings/venv\u001b[0m\r\n",
      "Note: you may need to restart the kernel to use updated packages.\n"
     ]
    }
   ],
   "source": [
    "pip install pmdarima"
   ]
  },
  {
   "cell_type": "markdown",
   "id": "4a01f206",
   "metadata": {
    "id": "RkJ6Vkcg68nC",
    "papermill": {
     "duration": 0.049091,
     "end_time": "2021-10-04T07:31:38.878832",
     "exception": false,
     "start_time": "2021-10-04T07:31:38.829741",
     "status": "completed"
    },
    "tags": []
   },
   "source": [
    "## **Train Test Split**"
   ]
  },
  {
   "cell_type": "code",
   "execution_count": 20,
   "id": "c87fdc4f",
   "metadata": {
    "execution": {
     "iopub.execute_input": "2021-10-04T07:31:38.985013Z",
     "iopub.status.busy": "2021-10-04T07:31:38.984326Z",
     "iopub.status.idle": "2021-10-04T07:31:38.987759Z",
     "shell.execute_reply": "2021-10-04T07:31:38.987220Z",
     "shell.execute_reply.started": "2021-10-04T07:23:16.468859Z"
    },
    "id": "T1P58SkMFrQ4",
    "outputId": "3ce06018-e284-4dc1-c57a-ae155a8180a9",
    "papermill": {
     "duration": 0.060042,
     "end_time": "2021-10-04T07:31:38.987896",
     "exception": false,
     "start_time": "2021-10-04T07:31:38.927854",
     "status": "completed"
    },
    "tags": []
   },
   "outputs": [
    {
     "name": "stdout",
     "output_type": "stream",
     "text": [
      "446 111\n"
     ]
    }
   ],
   "source": [
    "n = len(df)\n",
    "p = round(n*0.80)\n",
    "train_data = df.iloc[:p]\n",
    "test_data = df.iloc[p:]\n",
    "print(len(train_data),len(test_data))"
   ]
  },
  {
   "cell_type": "markdown",
   "id": "f8165866",
   "metadata": {
    "id": "IeHz1N4x_f0I",
    "papermill": {
     "duration": 0.048842,
     "end_time": "2021-10-04T07:31:39.086021",
     "exception": false,
     "start_time": "2021-10-04T07:31:39.037179",
     "status": "completed"
    },
    "tags": []
   },
   "source": [
    "## **Finding Best (p,d,q) fit using auto_arima** "
   ]
  },
  {
   "cell_type": "code",
   "execution_count": 21,
   "id": "268a1271",
   "metadata": {
    "execution": {
     "iopub.execute_input": "2021-10-04T07:31:39.191861Z",
     "iopub.status.busy": "2021-10-04T07:31:39.191162Z",
     "iopub.status.idle": "2021-10-04T07:31:40.631933Z",
     "shell.execute_reply": "2021-10-04T07:31:40.630986Z",
     "shell.execute_reply.started": "2021-10-04T07:23:19.114256Z"
    },
    "id": "Luy7CKJkFrVB",
    "outputId": "1486a551-5097-4716-ecfb-43e60b863203",
    "papermill": {
     "duration": 1.496083,
     "end_time": "2021-10-04T07:31:40.632198",
     "exception": false,
     "start_time": "2021-10-04T07:31:39.136115",
     "status": "completed"
    },
    "tags": []
   },
   "outputs": [
    {
     "name": "stdout",
     "output_type": "stream",
     "text": [
      "Performing stepwise search to minimize aic\n",
      " ARIMA(2,0,2)(0,0,0)[0] intercept   : AIC=-3002.646, Time=0.79 sec\n",
      " ARIMA(0,0,0)(0,0,0)[0] intercept   : AIC=-3007.686, Time=0.15 sec\n",
      " ARIMA(1,0,0)(0,0,0)[0] intercept   : AIC=-3007.120, Time=0.06 sec\n",
      " ARIMA(0,0,1)(0,0,0)[0] intercept   : AIC=-3007.098, Time=0.08 sec\n",
      " ARIMA(0,0,0)(0,0,0)[0]             : AIC=-3004.210, Time=0.04 sec\n",
      " ARIMA(1,0,1)(0,0,0)[0] intercept   : AIC=-3005.122, Time=0.09 sec\n",
      "\n",
      "Best model:  ARIMA(0,0,0)(0,0,0)[0] intercept\n",
      "Total fit time: 1.213 seconds\n"
     ]
    },
    {
     "data": {
      "text/html": [
       "<table class=\"simpletable\">\n",
       "<caption>SARIMAX Results</caption>\n",
       "<tr>\n",
       "  <th>Dep. Variable:</th>           <td>y</td>        <th>  No. Observations:  </th>    <td>557</td>   \n",
       "</tr>\n",
       "<tr>\n",
       "  <th>Model:</th>                <td>SARIMAX</td>     <th>  Log Likelihood     </th> <td>1505.843</td> \n",
       "</tr>\n",
       "<tr>\n",
       "  <th>Date:</th>            <td>Mon, 04 Oct 2021</td> <th>  AIC                </th> <td>-3007.686</td>\n",
       "</tr>\n",
       "<tr>\n",
       "  <th>Time:</th>                <td>07:31:40</td>     <th>  BIC                </th> <td>-2999.041</td>\n",
       "</tr>\n",
       "<tr>\n",
       "  <th>Sample:</th>                  <td>0</td>        <th>  HQIC               </th> <td>-3004.309</td>\n",
       "</tr>\n",
       "<tr>\n",
       "  <th></th>                      <td> - 557</td>      <th>                     </th>     <td> </td>    \n",
       "</tr>\n",
       "<tr>\n",
       "  <th>Covariance Type:</th>        <td>opg</td>       <th>                     </th>     <td> </td>    \n",
       "</tr>\n",
       "</table>\n",
       "<table class=\"simpletable\">\n",
       "<tr>\n",
       "      <td></td>         <th>coef</th>     <th>std err</th>      <th>z</th>      <th>P>|z|</th>  <th>[0.025</th>    <th>0.975]</th>  \n",
       "</tr>\n",
       "<tr>\n",
       "  <th>intercept</th> <td>    0.0016</td> <td>    0.001</td> <td>    2.341</td> <td> 0.019</td> <td>    0.000</td> <td>    0.003</td>\n",
       "</tr>\n",
       "<tr>\n",
       "  <th>sigma2</th>    <td>    0.0003</td> <td> 1.21e-05</td> <td>   21.641</td> <td> 0.000</td> <td>    0.000</td> <td>    0.000</td>\n",
       "</tr>\n",
       "</table>\n",
       "<table class=\"simpletable\">\n",
       "<tr>\n",
       "  <th>Ljung-Box (L1) (Q):</th>     <td>1.43</td> <th>  Jarque-Bera (JB):  </th> <td>45.27</td>\n",
       "</tr>\n",
       "<tr>\n",
       "  <th>Prob(Q):</th>                <td>0.23</td> <th>  Prob(JB):          </th> <td>0.00</td> \n",
       "</tr>\n",
       "<tr>\n",
       "  <th>Heteroskedasticity (H):</th> <td>0.40</td> <th>  Skew:              </th> <td>-0.12</td>\n",
       "</tr>\n",
       "<tr>\n",
       "  <th>Prob(H) (two-sided):</th>    <td>0.00</td> <th>  Kurtosis:          </th> <td>4.38</td> \n",
       "</tr>\n",
       "</table><br/><br/>Warnings:<br/>[1] Covariance matrix calculated using the outer product of gradients (complex-step)."
      ],
      "text/plain": [
       "<class 'statsmodels.iolib.summary.Summary'>\n",
       "\"\"\"\n",
       "                               SARIMAX Results                                \n",
       "==============================================================================\n",
       "Dep. Variable:                      y   No. Observations:                  557\n",
       "Model:                        SARIMAX   Log Likelihood                1505.843\n",
       "Date:                Mon, 04 Oct 2021   AIC                          -3007.686\n",
       "Time:                        07:31:40   BIC                          -2999.041\n",
       "Sample:                             0   HQIC                         -3004.309\n",
       "                                - 557                                         \n",
       "Covariance Type:                  opg                                         \n",
       "==============================================================================\n",
       "                 coef    std err          z      P>|z|      [0.025      0.975]\n",
       "------------------------------------------------------------------------------\n",
       "intercept      0.0016      0.001      2.341      0.019       0.000       0.003\n",
       "sigma2         0.0003   1.21e-05     21.641      0.000       0.000       0.000\n",
       "===================================================================================\n",
       "Ljung-Box (L1) (Q):                   1.43   Jarque-Bera (JB):                45.27\n",
       "Prob(Q):                              0.23   Prob(JB):                         0.00\n",
       "Heteroskedasticity (H):               0.40   Skew:                            -0.12\n",
       "Prob(H) (two-sided):                  0.00   Kurtosis:                         4.38\n",
       "===================================================================================\n",
       "\n",
       "Warnings:\n",
       "[1] Covariance matrix calculated using the outer product of gradients (complex-step).\n",
       "\"\"\""
      ]
     },
     "execution_count": 21,
     "metadata": {},
     "output_type": "execute_result"
    }
   ],
   "source": [
    "from pmdarima import auto_arima\n",
    "best_fit = auto_arima(df['ISE'],trace=True)\n",
    "best_fit.summary()"
   ]
  },
  {
   "cell_type": "markdown",
   "id": "443d33f5",
   "metadata": {
    "id": "ehd8V8bHBZY_",
    "papermill": {
     "duration": 0.050272,
     "end_time": "2021-10-04T07:31:40.740160",
     "exception": false,
     "start_time": "2021-10-04T07:31:40.689888",
     "status": "completed"
    },
    "tags": []
   },
   "source": [
    "## **ARIMA(0,0,0)**"
   ]
  },
  {
   "cell_type": "code",
   "execution_count": 22,
   "id": "843e508f",
   "metadata": {
    "execution": {
     "iopub.execute_input": "2021-10-04T07:31:40.846049Z",
     "iopub.status.busy": "2021-10-04T07:31:40.845416Z",
     "iopub.status.idle": "2021-10-04T07:31:40.846804Z",
     "shell.execute_reply": "2021-10-04T07:31:40.847372Z",
     "shell.execute_reply.started": "2021-10-04T07:23:20.551661Z"
    },
    "id": "NeR8P9wl717e",
    "papermill": {
     "duration": 0.057024,
     "end_time": "2021-10-04T07:31:40.847541",
     "exception": false,
     "start_time": "2021-10-04T07:31:40.790517",
     "status": "completed"
    },
    "tags": []
   },
   "outputs": [],
   "source": [
    "import warnings\n",
    "warnings.filterwarnings('ignore')"
   ]
  },
  {
   "cell_type": "code",
   "execution_count": 23,
   "id": "62f456e7",
   "metadata": {
    "execution": {
     "iopub.execute_input": "2021-10-04T07:31:40.957698Z",
     "iopub.status.busy": "2021-10-04T07:31:40.956586Z",
     "iopub.status.idle": "2021-10-04T07:31:40.981572Z",
     "shell.execute_reply": "2021-10-04T07:31:40.980964Z",
     "shell.execute_reply.started": "2021-10-04T07:23:20.557896Z"
    },
    "id": "6Aepbncy714k",
    "outputId": "bafc481f-5139-4dae-a2bc-ed2eda3a6bdd",
    "papermill": {
     "duration": 0.083472,
     "end_time": "2021-10-04T07:31:40.981772",
     "exception": false,
     "start_time": "2021-10-04T07:31:40.898300",
     "status": "completed"
    },
    "tags": []
   },
   "outputs": [
    {
     "name": "stdout",
     "output_type": "stream",
     "text": [
      "RUNNING THE L-BFGS-B CODE\n",
      "\n",
      "           * * *\n",
      "\n",
      "Machine precision = 2.220D-16\n",
      " N =            1     M =           12\n",
      "\n",
      "At X0         0 variables are exactly at the bounds\n",
      "\n",
      "At iterate    0    f= -2.66770D+00    |proj g|=  1.77636D-05\n",
      "\n",
      "           * * *\n",
      "\n",
      "Tit   = total number of iterations\n",
      "Tnf   = total number of function evaluations\n",
      "Tnint = total number of segments explored during Cauchy searches\n",
      "Skip  = number of BFGS updates skipped\n",
      "Nact  = number of active bounds at final generalized Cauchy point\n",
      "Projg = norm of the final projected gradient\n",
      "F     = final function value\n",
      "\n",
      "           * * *\n",
      "\n",
      "   N    Tit     Tnf  Tnint  Skip  Nact     Projg        F\n",
      "    1      1     13      1     0     0   1.590D-05  -2.668D+00\n",
      "  F =  -2.6677026223141929     \n",
      "\n",
      "CONVERGENCE: REL_REDUCTION_OF_F_<=_FACTR*EPSMCH             \n"
     ]
    },
    {
     "name": "stderr",
     "output_type": "stream",
     "text": [
      " This problem is unconstrained.\n",
      "\n",
      " Warning:  more than 10 function and gradient\n",
      "   evaluations in the last line search.  Termination\n",
      "   may possibly be caused by a bad search direction.\n"
     ]
    },
    {
     "data": {
      "text/html": [
       "<table class=\"simpletable\">\n",
       "<caption>ARMA Model Results</caption>\n",
       "<tr>\n",
       "  <th>Dep. Variable:</th>        <td>ISE</td>       <th>  No. Observations:  </th>    <td>446</td>   \n",
       "</tr>\n",
       "<tr>\n",
       "  <th>Model:</th>            <td>ARMA(0, 0)</td>    <th>  Log Likelihood     </th> <td>1189.795</td> \n",
       "</tr>\n",
       "<tr>\n",
       "  <th>Method:</th>               <td>css</td>       <th>  S.D. of innovations</th>   <td>0.017</td>  \n",
       "</tr>\n",
       "<tr>\n",
       "  <th>Date:</th>          <td>Mon, 04 Oct 2021</td> <th>  AIC                </th> <td>-2375.591</td>\n",
       "</tr>\n",
       "<tr>\n",
       "  <th>Time:</th>              <td>07:31:40</td>     <th>  BIC                </th> <td>-2367.390</td>\n",
       "</tr>\n",
       "<tr>\n",
       "  <th>Sample:</th>           <td>01-05-2009</td>    <th>  HQIC               </th> <td>-2372.357</td>\n",
       "</tr>\n",
       "<tr>\n",
       "  <th></th>                 <td>- 09-20-2010</td>   <th>                     </th>     <td> </td>    \n",
       "</tr>\n",
       "</table>\n",
       "<table class=\"simpletable\">\n",
       "<tr>\n",
       "    <td></td>       <th>coef</th>     <th>std err</th>      <th>z</th>      <th>P>|z|</th>  <th>[0.025</th>    <th>0.975]</th>  \n",
       "</tr>\n",
       "<tr>\n",
       "  <th>const</th> <td>    0.0021</td> <td>    0.001</td> <td>    2.616</td> <td> 0.009</td> <td>    0.001</td> <td>    0.004</td>\n",
       "</tr>\n",
       "</table>"
      ],
      "text/plain": [
       "<class 'statsmodels.iolib.summary.Summary'>\n",
       "\"\"\"\n",
       "                              ARMA Model Results                              \n",
       "==============================================================================\n",
       "Dep. Variable:                    ISE   No. Observations:                  446\n",
       "Model:                     ARMA(0, 0)   Log Likelihood                1189.795\n",
       "Method:                           css   S.D. of innovations              0.017\n",
       "Date:                Mon, 04 Oct 2021   AIC                          -2375.591\n",
       "Time:                        07:31:40   BIC                          -2367.390\n",
       "Sample:                    01-05-2009   HQIC                         -2372.357\n",
       "                         - 09-20-2010                                         \n",
       "==============================================================================\n",
       "                 coef    std err          z      P>|z|      [0.025      0.975]\n",
       "------------------------------------------------------------------------------\n",
       "const          0.0021      0.001      2.616      0.009       0.001       0.004\n",
       "==============================================================================\n",
       "\"\"\""
      ]
     },
     "execution_count": 23,
     "metadata": {},
     "output_type": "execute_result"
    }
   ],
   "source": [
    "model = ARIMA(train_data['ISE'],order=(0,0,0))\n",
    "model_ISE=model.fit()\n",
    "model_ISE.summary()"
   ]
  },
  {
   "cell_type": "code",
   "execution_count": 24,
   "id": "802540bd",
   "metadata": {
    "execution": {
     "iopub.execute_input": "2021-10-04T07:31:41.089669Z",
     "iopub.status.busy": "2021-10-04T07:31:41.088910Z",
     "iopub.status.idle": "2021-10-04T07:31:41.117754Z",
     "shell.execute_reply": "2021-10-04T07:31:41.118247Z",
     "shell.execute_reply.started": "2021-10-04T07:23:20.788267Z"
    },
    "id": "-ByZHkHx710t",
    "papermill": {
     "duration": 0.084817,
     "end_time": "2021-10-04T07:31:41.118456",
     "exception": false,
     "start_time": "2021-10-04T07:31:41.033639",
     "status": "completed"
    },
    "tags": []
   },
   "outputs": [],
   "source": [
    "df['auto_arima_ISE']=model_ISE.predict(start=len(train_data),end=556,dynamic=True)"
   ]
  },
  {
   "cell_type": "markdown",
   "id": "84703c5e",
   "metadata": {
    "id": "zFBWnfuoCVja",
    "papermill": {
     "duration": 0.05167,
     "end_time": "2021-10-04T07:31:41.222065",
     "exception": false,
     "start_time": "2021-10-04T07:31:41.170395",
     "status": "completed"
    },
    "tags": []
   },
   "source": [
    "## **Plot**"
   ]
  },
  {
   "cell_type": "code",
   "execution_count": 25,
   "id": "4604a08a",
   "metadata": {
    "execution": {
     "iopub.execute_input": "2021-10-04T07:31:41.329478Z",
     "iopub.status.busy": "2021-10-04T07:31:41.328793Z",
     "iopub.status.idle": "2021-10-04T07:31:41.740502Z",
     "shell.execute_reply": "2021-10-04T07:31:41.741001Z",
     "shell.execute_reply.started": "2021-10-04T07:23:21.565896Z"
    },
    "id": "5-nO6n-X8IQY",
    "outputId": "db56cafa-ce7a-4155-944f-34885c65eaff",
    "papermill": {
     "duration": 0.466659,
     "end_time": "2021-10-04T07:31:41.741170",
     "exception": false,
     "start_time": "2021-10-04T07:31:41.274511",
     "status": "completed"
    },
    "tags": []
   },
   "outputs": [
    {
     "data": {
      "text/plain": [
       "<matplotlib.legend.Legend at 0x7ff3a573e590>"
      ]
     },
     "execution_count": 25,
     "metadata": {},
     "output_type": "execute_result"
    },
    {
     "data": {
      "image/png": "[encoded data removed]",
      "text/plain": [
       "<Figure size 1152x648 with 1 Axes>"
      ]
     },
     "metadata": {
      "needs_background": "light"
     },
     "output_type": "display_data"
    }
   ],
   "source": [
    "plt.figure(figsize=(16,9))\n",
    "plt.plot(df['auto_arima_ISE'],color='blue')\n",
    "plt.plot(test_data['ISE'],color='lightgreen')\n",
    "plt.plot(train_data['ISE'],color='orange')\n",
    "plt.legend(['auto_arima_ISE','ISE_test_data','ISE_train_data'])"
   ]
  },
  {
   "cell_type": "markdown",
   "id": "ee33161c",
   "metadata": {
    "id": "hlMF9JMk8lkR",
    "papermill": {
     "duration": 0.055053,
     "end_time": "2021-10-04T07:31:41.853092",
     "exception": false,
     "start_time": "2021-10-04T07:31:41.798039",
     "status": "completed"
    },
    "tags": []
   },
   "source": [
    "## Hence the graph proves our assumption that white noise cannot be predicted"
   ]
  },
  {
   "cell_type": "markdown",
   "id": "19401235",
   "metadata": {
    "papermill": {
     "duration": 0.055152,
     "end_time": "2021-10-04T07:31:41.963664",
     "exception": false,
     "start_time": "2021-10-04T07:31:41.908512",
     "status": "completed"
    },
    "tags": []
   },
   "source": [
    "## Please upvote the notebook if it was helpful. Thank You!"
   ]
  },
  {
   "cell_type": "code",
   "execution_count": null,
   "id": "18fe8c29",
   "metadata": {
    "papermill": {
     "duration": 0.055069,
     "end_time": "2021-10-04T07:31:42.073839",
     "exception": false,
     "start_time": "2021-10-04T07:31:42.018770",
     "status": "completed"
    },
    "tags": []
   },
   "outputs": [],
   "source": []
  }
 ],
 "metadata": {
  "kernelspec": {
   "display_name": "Python 3 (ipykernel)",
   "language": "python",
   "name": "python3"
  },
  "language_info": {
   "codemirror_mode": {
    "name": "ipython",
    "version": 3
   },
   "file_extension": ".py",
   "mimetype": "text/x-python",
   "name": "python",
   "nbconvert_exporter": "python",
   "pygments_lexer": "ipython3",
   "version": "3.8.8"
  },
  "papermill": {
   "default_parameters": {},
   "duration": 29.685396,
   "end_time": "2021-10-04T07:31:42.943327",
   "environment_variables": {},
   "exception": null,
   "input_path": "__notebook__.ipynb",
   "output_path": "__notebook__.ipynb",
   "parameters": {},
   "start_time": "2021-10-04T07:31:13.257931",
   "version": "2.3.3"
  }
 },
 "nbformat": 4,
 "nbformat_minor": 5
}
